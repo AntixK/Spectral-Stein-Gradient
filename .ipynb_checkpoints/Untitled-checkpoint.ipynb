{
 "cells": [
  {
   "cell_type": "code",
   "execution_count": 2,
   "metadata": {},
   "outputs": [],
   "source": [
    "import pyro\n",
    "import pyro.infer\n",
    "import pyro.optim\n",
    "from pyro import poutine\n",
    "import torch\n",
    "from torch.distributions import constraints\n",
    "import pyro.distributions as dist\n",
    "from tqdm import tqdm\n",
    "\n",
    "\n",
    "pyro.set_rng_seed(1234)"
   ]
  },
  {
   "cell_type": "code",
   "execution_count": 3,
   "metadata": {},
   "outputs": [],
   "source": [
    "class Experiment:\n",
    "\n",
    "    def __init__(self, prior_params):\n",
    "        self.prior_params = prior_params\n",
    "\n",
    "    def _prior_dist(self):\n",
    "        \"\"\"\n",
    "        P(\\theta)\n",
    "        :return:\n",
    "        \"\"\"\n",
    "        return pyro.sample('theta', dist.Beta(**self.prior_params))\n",
    "\n",
    "    def _likelihood(self):\n",
    "        \"\"\"\n",
    "        P(x | \\theta)\n",
    "        :param theta:\n",
    "        :return:\n",
    "        \"\"\"\n",
    "        theta = self._prior_dist()\n",
    "        return pyro.sample('like_sample', dist.Bernoulli(theta))\n",
    "\n",
    "    def _posterior_dist(self, obs, obs_ind):\n",
    "        \"\"\"\n",
    "        P(\\theta | x)\n",
    "        :param likelihood:\n",
    "        :param obs:\n",
    "        :param obs_ind: Index of the observed data (for naming)\n",
    "        :return:\n",
    "        \"\"\"\n",
    "        return pyro.condition(self._likelihood, data = {'obs_{}'.format(obs_ind): obs})\n",
    "\n",
    "    def _model(self, observations):\n",
    "        for i in range(len(observations)):\n",
    "            self._posterior_dist(observations[i], i)\n",
    "\n",
    "\n",
    "    def _variational_dist(self, observations):\n",
    "        alpha_q = pyro.param('alpha_q',torch.tensor(15.0),\n",
    "                         constraint=constraints.positive)\n",
    "        beta_q= pyro.param('beta_q', torch.tensor(15.0),\n",
    "                         constraint = constraints.positive)\n",
    "        return pyro.sample('posteriori_weight', dist.Beta(alpha_q, beta_q))\n",
    "\n",
    "    def _loss_func(self):\n",
    "        return pyro.infer.Trace_ELBO()\n",
    "\n",
    "    def _loss(self, model, guide, *args, **kwargs):\n",
    "        guide_trace = poutine.trace(guide).get_trace(*args, **kwargs)\n",
    "\n",
    "        model_trace = poutine.trace(\n",
    "            poutine.replay(model, trace=guide_trace)).get_trace(*args, **kwargs)\n",
    "        # construct the elbo loss function\n",
    "\n",
    "        return -1 * (model_trace.log_prob_sum() - guide_trace.log_prob_sum())\n",
    "\n",
    "\n",
    "    def run(self,\n",
    "            obervations,\n",
    "            num_iter: int):\n",
    "\n",
    "        pyro.clear_param_store()\n",
    "\n",
    "        optimizer = pyro.optim.Adam({\"lr\": 0.0005, \"betas\": (0.90, 0.999)})\n",
    "\n",
    "        svi = pyro.infer.SVI(model = self._model,\n",
    "                             guide = self._variational_dist,\n",
    "                             optim = optimizer,\n",
    "                             loss = self._loss)\n",
    "\n",
    "        for t in tqdm(range(num_iter)):\n",
    "            svi.step(obervations)\n",
    "        return pyro.param('alpha_q').item(), pyro.param('beta_q').item()"
   ]
  },
  {
   "cell_type": "code",
   "execution_count": 4,
   "metadata": {},
   "outputs": [
    {
     "name": "stderr",
     "output_type": "stream",
     "text": [
      "100%|██████████| 5000/5000 [00:04<00:00, 1233.61it/s]"
     ]
    },
    {
     "name": "stdout",
     "output_type": "stream",
     "text": [
      "0.5024239189391284\n"
     ]
    },
    {
     "name": "stderr",
     "output_type": "stream",
     "text": [
      "\n"
     ]
    }
   ],
   "source": [
    "exp = Experiment({'concentration1':10., 'concentration0': 10.},)\n",
    "observations = []\n",
    "for _ in range(6):\n",
    "    observations.append(torch.tensor(1.0))\n",
    "for _ in range(4):\n",
    "    observations.append(torch.tensor(0.0))\n",
    "\n",
    "a, b = exp.run(observations, 5000)\n",
    "print(a/(a+b))"
   ]
  },
  {
   "cell_type": "code",
   "execution_count": null,
   "metadata": {},
   "outputs": [],
   "source": [
    "guide_trace = poutine.trace(exp._variational_dist).get_trace(*args, **kwargs)\n",
    "\n",
    "model_trace = poutine.trace(\n",
    "    poutine.replay(exp._model, trace=guide_trace)).get_trace(*args, **kwargs)\n",
    "# construct the elbo loss function\n",
    "\n",
    "return -1 * (model_trace.log_prob_sum() - guide_trace.log_prob_sum())"
   ]
  }
 ],
 "metadata": {
  "kernelspec": {
   "display_name": "Python 3",
   "language": "python",
   "name": "python3"
  },
  "language_info": {
   "codemirror_mode": {
    "name": "ipython",
    "version": 3
   },
   "file_extension": ".py",
   "mimetype": "text/x-python",
   "name": "python",
   "nbconvert_exporter": "python",
   "pygments_lexer": "ipython3",
   "version": "3.7.5"
  }
 },
 "nbformat": 4,
 "nbformat_minor": 2
}
